{
  "nbformat": 4,
  "nbformat_minor": 0,
  "metadata": {
    "colab": {
      "provenance": []
    },
    "kernelspec": {
      "name": "python3",
      "display_name": "Python 3"
    },
    "language_info": {
      "name": "python"
    }
  },
  "cells": [
    {
      "cell_type": "markdown",
      "source": [
        "**1. Palindrome Checker (Word)**\n",
        "\n",
        "• Write a program to check if a given word is a palindrome (reads the same forwards and backwards).\n",
        "• Expected output: If the input is \"racecar\", the output should be \"racecar is a palindrome.\" If the input is \"Python\", the output should be \"Python is not a palindrome.”\n"
      ],
      "metadata": {
        "id": "U758t5hf0t2q"
      }
    },
    {
      "cell_type": "code",
      "source": [
        "def is_palindrome(s):\n",
        "    # Remove any spaces and convert to lowercase for case insensitivity\n",
        "    s = s.replace(\" \", \"\").lower()\n",
        "\n",
        "    # Check if the string is equal to its reverse\n",
        "    return s == s[::-1]\n",
        "\n",
        "# Get input from the user\n",
        "user_input = input(\"Enter a string: \")\n",
        "\n",
        "# Check if the input string is a palindrome\n",
        "if is_palindrome(user_input):\n",
        "    print(f\"{user_input} is a palindrome\")\n",
        "else:\n",
        "    print(f\"{user_input} is not a palindrome\")\n"
      ],
      "metadata": {
        "colab": {
          "base_uri": "https://localhost:8080/"
        },
        "id": "szCm58vm09mi",
        "outputId": "b8014703-97ac-4297-b75f-2ee70f1abc12"
      },
      "execution_count": 1,
      "outputs": [
        {
          "output_type": "stream",
          "name": "stdout",
          "text": [
            "Enter a string: racecar\n",
            "racecar is a palindrome\n"
          ]
        }
      ]
    },
    {
      "cell_type": "markdown",
      "source": [
        "**2. FizzBuzz**\n",
        "   - Write a program that prints the numbers from 1 to 100. For multiples of 3, print \"Fizz\" instead of the number, and for multiples of 5, print \"Buzz\". For numbers that are multiples of both 3 and 5, print \"FizzBuzz\".\n",
        "   - Expected output:\n",
        "     1\n",
        "     2\n",
        "     Fizz\n",
        "     4\n",
        "     Buzz\n",
        "     Fizz\n",
        "     7\n",
        "     8\n",
        "     Fizz\n",
        "     Buzz\n",
        "     11\n",
        "     Fizz\n",
        "     13\n",
        "     14\n",
        "     FizzBuzz\n"
      ],
      "metadata": {
        "id": "v0PxOJ4U1uyS"
      }
    },
    {
      "cell_type": "code",
      "source": [
        "for i in range(1, 101):   #define range\n",
        "    if i % 3 == 0 and i % 5 == 0:   # divisible with 3 and 5\n",
        "        print(\"FizzBuzz\", end=\" \")\n",
        "    elif i % 3 == 0:\n",
        "        print(\"Fizz\", end=\" \")\n",
        "    elif i % 5 == 0:\n",
        "        print(\"Buzz\", end=\" \")\n",
        "    else:\n",
        "        print(i, end=\" \")"
      ],
      "metadata": {
        "colab": {
          "base_uri": "https://localhost:8080/"
        },
        "id": "VBCHTv-Q1oRS",
        "outputId": "8a4cb71c-69b4-40fb-b1b4-b546a4bd43d2"
      },
      "execution_count": 5,
      "outputs": [
        {
          "output_type": "stream",
          "name": "stdout",
          "text": [
            "1 2 Fizz 4 Buzz Fizz 7 8 Fizz Buzz 11 Fizz 13 14 FizzBuzz 16 17 Fizz 19 Buzz Fizz 22 23 Fizz Buzz 26 Fizz 28 29 FizzBuzz 31 32 Fizz 34 Buzz Fizz 37 38 Fizz Buzz 41 Fizz 43 44 FizzBuzz 46 47 Fizz 49 Buzz Fizz 52 53 Fizz Buzz 56 Fizz 58 59 FizzBuzz 61 62 Fizz 64 Buzz Fizz 67 68 Fizz Buzz 71 Fizz 73 74 FizzBuzz 76 77 Fizz 79 Buzz Fizz 82 83 Fizz Buzz 86 Fizz 88 89 FizzBuzz 91 92 Fizz 94 Buzz Fizz 97 98 Fizz Buzz "
          ]
        }
      ]
    },
    {
      "cell_type": "markdown",
      "source": [
        "**3. Nth Fibonacci Number**\n",
        "\n",
        "• Write a program to find the nth Fibonacci number.\n",
        "• Expected output: If the input is 10, the output should be \"The 10th Fibonacci number is 55.\n"
      ],
      "metadata": {
        "id": "pRMxzaG07Coe"
      }
    },
    {
      "cell_type": "code",
      "source": [
        "def fibonacci(n):\n",
        "    # Handle the base case when n is 0\n",
        "    if n == 0:\n",
        "        return 0\n",
        "    # Handle the base case when n is 1\n",
        "    elif n == 1:\n",
        "        return 1\n",
        "\n",
        "    # Initialize the first two Fibonacci numbers\n",
        "    a, b = 0, 1\n",
        "    # Use a loop to compute the Fibonacci sequence up to the nth number\n",
        "    for _ in range(2, n + 1):\n",
        "        # Update the values of a and b\n",
        "        a, b = b, a + b\n",
        "    # After the loop, b contains the nth Fibonacci number\n",
        "    return b\n",
        "\n",
        "# Input\n",
        "n = int(input('Enter a number'))\n",
        "# Compute the nth Fibonacci number\n",
        "nth_fib = fibonacci(n)\n",
        "# Output the result\n",
        "print(f\"The {n}th Fibonacci number is {nth_fib}.\")\n"
      ],
      "metadata": {
        "colab": {
          "base_uri": "https://localhost:8080/"
        },
        "id": "nauu6fnT3gbZ",
        "outputId": "4694b95a-06e1-4a6e-b86c-8c30d493c469"
      },
      "execution_count": 6,
      "outputs": [
        {
          "output_type": "stream",
          "name": "stdout",
          "text": [
            "Enter a number10\n",
            "The 10th Fibonacci number is 55.\n"
          ]
        }
      ]
    },
    {
      "cell_type": "markdown",
      "source": [
        "**4. Prime Number Checker**\n",
        "   - Write a program to check if a given number is prime.\n",
        "   - Expected output: If the input is 7, the output should be \"7 is a prime number.\" If the input\n"
      ],
      "metadata": {
        "id": "RlS4uge9-OYg"
      }
    },
    {
      "cell_type": "code",
      "source": [
        "import math  # Importing the math module to use the sqrt function\n",
        "\n",
        "def is_prime(number):\n",
        "    if number <= 1:\n",
        "      return False # Any number less than or equal to 1 is not a prime number\n",
        "\n",
        "    # Check for factors from 2 to the square root of the number\n",
        "    for i in range(2, int(math.sqrt(number)) + 1):\n",
        "        if number % i == 0:\n",
        "            # If number is divisible by any i, it is not a prime number\n",
        "            return False\n",
        "\n",
        "    # If no factors are found, the number is prime\n",
        "    return True\n",
        "\n",
        "# Input from user\n",
        "num = int(input(\"Enter a number: \"))\n",
        "\n",
        "# Check and print if the number is prime\n",
        "if is_prime(num):\n",
        "    # If the number is prime, print this message\n",
        "    print(f\"{num} is a prime number.\")\n",
        "else:\n",
        "    # If the number is not prime, print this message\n",
        "    print(f\"{num} is not a prime number.\")\n"
      ],
      "metadata": {
        "colab": {
          "base_uri": "https://localhost:8080/"
        },
        "id": "UXr8asKR-Iwh",
        "outputId": "a54e7061-4345-44dc-c7d9-20bc2c3738de"
      },
      "execution_count": 14,
      "outputs": [
        {
          "output_type": "stream",
          "name": "stdout",
          "text": [
            "Enter a number: 7\n",
            "7 is a prime number.\n"
          ]
        }
      ]
    },
    {
      "cell_type": "markdown",
      "source": [
        "**5. Guess the Number Game**\n",
        "   - Write a program where the computer generates a random number, and the user has to guess it.\n",
        "   - Expected output: The program should prompt the user to enter a guess and provide feedback on whether the guess is too high, too low, or correct.\n"
      ],
      "metadata": {
        "id": "y02_yLwGAk2k"
      }
    },
    {
      "cell_type": "code",
      "source": [
        "import random\n",
        "\n",
        "# Step 1: Generate a random number\n",
        "number_to_guess = random.randint(1, 100)\n",
        "\n",
        "# Step 2: Prompt the user for a guess\n",
        "while True:\n",
        "    user_guess = int(input(\"Enter your guess (between 1 and 100): \"))\n",
        "\n",
        "    # Step 3: Provide feedback\n",
        "    if user_guess < number_to_guess:\n",
        "        print(\"Too low!\")\n",
        "    elif user_guess > number_to_guess:\n",
        "        print(\"Too high!\")\n",
        "    else:\n",
        "        # Step 4: End the game when the guess is correct\n",
        "        print(\"Congratulations! You guessed the correct number.\")\n",
        "        break\n"
      ],
      "metadata": {
        "colab": {
          "base_uri": "https://localhost:8080/"
        },
        "id": "vq9WlGEV-zAx",
        "outputId": "044085c2-9a4f-4a0c-e770-b0c3b37e59d9"
      },
      "execution_count": 16,
      "outputs": [
        {
          "output_type": "stream",
          "name": "stdout",
          "text": [
            "Enter your guess (between 1 and 100): 50\n",
            "Too high!\n",
            "Enter your guess (between 1 and 100): 40\n",
            "Too high!\n",
            "Enter your guess (between 1 and 100): 30\n",
            "Too high!\n",
            "Enter your guess (between 1 and 100): 25\n",
            "Too high!\n",
            "Enter your guess (between 1 and 100): 19\n",
            "Too high!\n",
            "Enter your guess (between 1 and 100): 15\n",
            "Too high!\n",
            "Enter your guess (between 1 and 100): 10\n",
            "Too high!\n",
            "Enter your guess (between 1 and 100): 8\n",
            "Too high!\n",
            "Enter your guess (between 1 and 100): 7\n",
            "Too high!\n",
            "Enter your guess (between 1 and 100): 4\n",
            "Too low!\n",
            "Enter your guess (between 1 and 100): 5\n",
            "Congratulations! You guessed the correct number.\n"
          ]
        }
      ]
    },
    {
      "cell_type": "markdown",
      "source": [
        "**6. List Comprehension**\n",
        "   - Write a program that uses list comprehension to create a list of squares of the first 10 integers.\n",
        "   - Expected output: `[1, 4, 9, 16, 25, 36, 49, 64, 81, 100]`\n"
      ],
      "metadata": {
        "id": "41aTIAAeD9Vi"
      }
    },
    {
      "cell_type": "code",
      "source": [
        "# Use list comprehension to generate the list of squares\n",
        "squares = [x**2 for x in range(1, 11)]\n",
        "\n",
        "# Print the result\n",
        "print(squares)"
      ],
      "metadata": {
        "colab": {
          "base_uri": "https://localhost:8080/"
        },
        "id": "pnRBa5wWAstF",
        "outputId": "5cf77c82-e4cc-4b61-8d8c-80ffcd4aa14f"
      },
      "execution_count": 20,
      "outputs": [
        {
          "output_type": "stream",
          "name": "stdout",
          "text": [
            "[1, 4, 9, 16, 25, 36, 49, 64, 81, 100]\n"
          ]
        }
      ]
    },
    {
      "cell_type": "markdown",
      "source": [
        "**7. Palindrome Sentences**\n",
        "   - Write a program to check if a given sentence is a palindrome (reads the same forwards and backwards, ignoring spaces and punctuation).\n",
        "   - Expected output: If the input is \"A man, a plan, a canal: Panama\", the output should be \"A man, a plan, a canal: Panama is a palindrome.\" If the input is \"Hello, world!\", the output should be \"Hello, world! is not a palindrome.\"\n"
      ],
      "metadata": {
        "id": "M6QKTs_mKtWA"
      }
    },
    {
      "cell_type": "code",
      "source": [
        "import string\n",
        "\n",
        "def is_palindrome_sentence(sentence):\n",
        "    # Normalize the input by converting to lowercase\n",
        "    normalized_sentence = sentence.lower()\n",
        "\n",
        "    # Remove all non-alphanumeric characters\n",
        "    cleaned_sentence = ''.join(char for char in normalized_sentence if char.isalnum())\n",
        "\n",
        "    # Check if the cleaned sentence is equal to its reverse\n",
        "    if cleaned_sentence == cleaned_sentence[::-1]:\n",
        "        return f'\"{sentence}\" is a palindrome.'\n",
        "    else:\n",
        "        return f'\"{sentence}\" is not a palindrome.'\n",
        "\n",
        "# Test the function with examples\n",
        "print(is_palindrome_sentence(\"A man, a plan, a canal: Panama\"))\n",
        "print(is_palindrome_sentence(\"Hello, world!\"))\n"
      ],
      "metadata": {
        "colab": {
          "base_uri": "https://localhost:8080/"
        },
        "id": "QhT8xdleKS16",
        "outputId": "5a14b23f-f99f-4bf2-f4c3-45aa2711ef37"
      },
      "execution_count": 22,
      "outputs": [
        {
          "output_type": "stream",
          "name": "stdout",
          "text": [
            "\"A man, a plan, a canal: Panama\" is a palindrome.\n",
            "\"Hello, world!\" is not a palindrome.\n"
          ]
        }
      ]
    },
    {
      "cell_type": "markdown",
      "source": [
        "**8. Anagram Checker**\n",
        "   - Write a program to check if two strings are anagrams (contain the same characters in a different order).\n",
        "   - Expected output: If the two strings are \"listen\" and \"silent\", the output should be \"listen and silent are anagrams.\" If the two strings are \"python\" and \"java\", the output should be \"python and java are not anagrams.\"\n"
      ],
      "metadata": {
        "id": "bpuuVTfqMIaw"
      }
    },
    {
      "cell_type": "code",
      "source": [
        "def are_anagrams(str1, str2):\n",
        "    # Normalize the strings\n",
        "    str1 = str1.lower()\n",
        "    str2 = str2.lower()\n",
        "\n",
        "    # Sort and compare method\n",
        "    if sorted(str1) == sorted(str2):\n",
        "        return True\n",
        "    return False\n",
        "\n",
        "def are_anagrams_using_dict(str1, str2):\n",
        "    # Normalize the strings\n",
        "    str1 = str1.lower()\n",
        "    str2 = str2.lower()\n",
        "\n",
        "    # Create dictionaries to count character frequencies\n",
        "    char_count1 = {}\n",
        "    char_count2 = {}\n",
        "\n",
        "    for char in str1:\n",
        "        if char in char_count1:\n",
        "            char_count1[char] += 1\n",
        "        else:\n",
        "            char_count1[char] = 1\n",
        "\n",
        "    for char in str2:\n",
        "        if char in char_count2:\n",
        "            char_count2[char] += 1\n",
        "        else:\n",
        "            char_count2[char] = 1\n",
        "\n",
        "    # Compare the dictionaries\n",
        "    if char_count1 == char_count2:\n",
        "        return True\n",
        "    return False\n",
        "\n",
        "def main():\n",
        "    str1 = input(\"Enter the first string: \")\n",
        "    str2 = input(\"Enter the second string: \")\n",
        "\n",
        "    if are_anagrams(str1, str2):\n",
        "        print(f\"{str1} and {str2} are anagrams.\")\n",
        "    else:\n",
        "        print(f\"{str1} and {str2} are not anagrams.\")\n",
        "\n",
        "if __name__ == \"__main__\":\n",
        "    main()\n"
      ],
      "metadata": {
        "colab": {
          "base_uri": "https://localhost:8080/"
        },
        "id": "j1ZyBxv6K_KJ",
        "outputId": "ba3a346d-0fb8-4699-8b6f-7f3c9d5ff8cf"
      },
      "execution_count": 23,
      "outputs": [
        {
          "output_type": "stream",
          "name": "stdout",
          "text": [
            "Enter the first string: listen\n",
            "Enter the second string: silent\n",
            "listen and silent are anagrams.\n"
          ]
        }
      ]
    },
    {
      "cell_type": "markdown",
      "source": [
        "**9. Reverse Words in a Sentence**\n",
        "   - Write a program to reverse the order of words in a given sentence.\n",
        "   - Expected output: If the input sentence is \"The quick brown fox jumps over the lazy dog.\", the output should be \"dog. lazy the over jumps fox brown quick The\"\n"
      ],
      "metadata": {
        "id": "00Nd1Kj6QW08"
      }
    },
    {
      "cell_type": "code",
      "source": [
        "def reverse_words(sentence):\n",
        "    # Split the sentence into words\n",
        "    words = sentence.split()\n",
        "\n",
        "    # Reverse the order of the words\n",
        "    reversed_words = words[::-1]\n",
        "\n",
        "    # Join the words back into a sentence\n",
        "    reversed_sentence = ' '.join(reversed_words)\n",
        "\n",
        "    return reversed_sentence\n",
        "\n",
        "# Example usage\n",
        "input_sentence = \"The quick brown fox jumps over the lazy dog.\"\n",
        "output_sentence = reverse_words(input_sentence)\n",
        "print(output_sentence)\n"
      ],
      "metadata": {
        "colab": {
          "base_uri": "https://localhost:8080/"
        },
        "id": "xSJCP-ZVMrdg",
        "outputId": "b3242238-6123-4a1c-c537-5e6a72d14a84"
      },
      "execution_count": 25,
      "outputs": [
        {
          "output_type": "stream",
          "name": "stdout",
          "text": [
            "dog. lazy the over jumps fox brown quick The\n"
          ]
        }
      ]
    },
    {
      "cell_type": "markdown",
      "source": [
        "**10. Temperature Converter**\n",
        "    - Write a program that can convert temperatures between Celsius, Fahrenheit, and Kelvin.\n",
        "    - Expected output: If the input is 20 degrees Celsius, the output should be \"20 degrees Celsius is equal to 68 degrees Fahrenheit and 293.15 degrees Kelvin.\"\n"
      ],
      "metadata": {
        "id": "bfW_cpI_QhLT"
      }
    },
    {
      "cell_type": "code",
      "source": [
        "def celsius_to_fahrenheit(celsius):\n",
        "    return (celsius * 9/5) + 32\n",
        "\n",
        "def celsius_to_kelvin(celsius):\n",
        "    return celsius + 273.15\n",
        "\n",
        "def fahrenheit_to_celsius(fahrenheit):\n",
        "    return (fahrenheit - 32) * 5/9\n",
        "\n",
        "def fahrenheit_to_kelvin(fahrenheit):\n",
        "    return (fahrenheit - 32) * 5/9 + 273.15\n",
        "\n",
        "def kelvin_to_celsius(kelvin):\n",
        "    return kelvin - 273.15\n",
        "\n",
        "def kelvin_to_fahrenheit(kelvin):\n",
        "    return (kelvin - 273.15) * 9/5 + 32\n",
        "\n",
        "def temperature_converter(value, unit):\n",
        "    if unit.lower() == 'c':\n",
        "        celsius = value\n",
        "        fahrenheit = celsius_to_fahrenheit(celsius)\n",
        "        kelvin = celsius_to_kelvin(celsius)\n",
        "        return f\"{value} degrees Celsius is equal to {fahrenheit} degrees Fahrenheit and {kelvin} degrees Kelvin.\"\n",
        "    elif unit.lower() == 'f':\n",
        "        fahrenheit = value\n",
        "        celsius = fahrenheit_to_celsius(fahrenheit)\n",
        "        kelvin = fahrenheit_to_kelvin(fahrenheit)\n",
        "        return f\"{value} degrees Fahrenheit is equal to {celsius} degrees Celsius and {kelvin} degrees Kelvin.\"\n",
        "    elif unit.lower() == 'k':\n",
        "        kelvin = value\n",
        "        celsius = kelvin_to_celsius(kelvin)\n",
        "        fahrenheit = kelvin_to_fahrenheit(kelvin)\n",
        "        return f\"{value} degrees Kelvin is equal to {celsius} degrees Celsius and {fahrenheit} degrees Fahrenheit.\"\n",
        "    else:\n",
        "        return \"Invalid unit provided.\"\n",
        "\n",
        "# Example usage\n",
        "value = float(input(\"Enter the temperature value: \"))\n",
        "unit = input(\"Enter the unit (C, F, or K): \")\n",
        "\n",
        "result = temperature_converter(value, unit)\n",
        "print(result)\n"
      ],
      "metadata": {
        "colab": {
          "base_uri": "https://localhost:8080/"
        },
        "id": "nv06BUC4QmjW",
        "outputId": "b1f0549d-ad16-45a9-81df-616cae00a206"
      },
      "execution_count": 24,
      "outputs": [
        {
          "output_type": "stream",
          "name": "stdout",
          "text": [
            "Enter the temperature value: 35\n",
            "Enter the unit (C, F, or K): C\n",
            "35.0 degrees Celsius is equal to 95.0 degrees Fahrenheit and 308.15 degrees Kelvin.\n"
          ]
        }
      ]
    },
    {
      "cell_type": "code",
      "source": [],
      "metadata": {
        "id": "2KQKbuBvQ3Bc"
      },
      "execution_count": null,
      "outputs": []
    }
  ]
}