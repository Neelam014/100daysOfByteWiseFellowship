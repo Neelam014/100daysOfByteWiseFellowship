{
  "nbformat": 4,
  "nbformat_minor": 0,
  "metadata": {
    "colab": {
      "provenance": []
    },
    "kernelspec": {
      "name": "python3",
      "display_name": "Python 3"
    },
    "language_info": {
      "name": "python"
    }
  },
  "cells": [
    {
      "cell_type": "markdown",
      "source": [
        "**1. Recursive Factorial**\n",
        "   - Write a recursive function to calculate the factorial of a given number.\n",
        "   - Expected output: If the input is 5, the output should be \"The factorial of 5 is 120.\"\n"
      ],
      "metadata": {
        "id": "Z9oXM-g2aNcL"
      }
    },
    {
      "cell_type": "code",
      "execution_count": null,
      "metadata": {
        "id": "JkTFTg0RaDTh",
        "colab": {
          "base_uri": "https://localhost:8080/"
        },
        "outputId": "b07ad019-c2c3-49b3-9645-e968fd8fd075"
      },
      "outputs": [
        {
          "output_type": "stream",
          "name": "stdout",
          "text": [
            "Enter a number: 5\n",
            "The factorial of 5 is 120.\n"
          ]
        }
      ],
      "source": [
        "def factorial(n):\n",
        "    # Base case\n",
        "    if n == 0:\n",
        "        return 1\n",
        "    # Recursive case\n",
        "    else:\n",
        "        return n * factorial(n - 1)\n",
        "\n",
        "# Get user input\n",
        "number = int(input(\"Enter a number: \"))\n",
        "\n",
        "# Calculate factorial using the recursive function\n",
        "result = factorial(number)\n",
        "\n",
        "# Print the result\n",
        "print(f\"The factorial of {number} is {result}.\")\n"
      ]
    },
    {
      "cell_type": "markdown",
      "source": [
        "**2. Palindrome Linked List**\n",
        "   - Write a program to determine if a given linked list is a palindrome.\n",
        "   - Expected output: If the linked list is `1 -> 2 -> 3 -> 2 -> 1`, the output should be \"The linked list is a palindrome.\" If the linked list is `1 -> 2 -> 3 -> 4 -> 5`, the output should be \"The linked list is not a palindrome.\"\n"
      ],
      "metadata": {
        "id": "bcJ9UIT5aWkJ"
      }
    },
    {
      "cell_type": "code",
      "source": [
        "# Step 1: define a class for the linked list nodes\n",
        "class ListNode:\n",
        "    def __init__(self, value=0, next=None):\n",
        "        self.value = value\n",
        "        self.next = next\n",
        "\n",
        "#Step 2: use the slow and fast pointer technique to find the middle of the linked list.\n",
        "def find_middle(head):\n",
        "    slow = head\n",
        "    fast = head\n",
        "    while fast and fast.next:\n",
        "        slow = slow.next\n",
        "        fast = fast.next.next\n",
        "    return slow\n",
        "\n",
        "\n",
        "#Step 3: Reverse a linked list by changing the 'next' pointers of its nodes\n",
        "def reverse_list(head):\n",
        "    prev = None\n",
        "    current = head\n",
        "    while current:\n",
        "        next_node = current.next\n",
        "        current.next = prev\n",
        "        prev = current\n",
        "        current = next_node\n",
        "    return prev\n",
        "\n",
        "#Step 4: Iterate through both halves simultaneously and compare the values.\n",
        "def is_equal(first, second):\n",
        "    while second:\n",
        "        if first.value != second.value:\n",
        "            return False\n",
        "        first = first.next\n",
        "        second = second.next\n",
        "    return True\n",
        "\n",
        "# #Step 5: Main function to check if the linked list is a palindrome.\n",
        "def is_palindrome(head):\n",
        "    if not head or not head.next:\n",
        "        return True\n",
        "\n",
        "    # Find the middle of the linked list\n",
        "    middle = find_middle(head)\n",
        "\n",
        "    # Reverse the second half of the linked list\n",
        "    second_half_start = reverse_list(middle)\n",
        "\n",
        "    # Compare the first half and the reversed second half\n",
        "    result = is_equal(head, second_half_start)\n",
        "\n",
        "    # Optional: Restore the original list (reverse the second half back)\n",
        "    reverse_list(second_half_start)\n",
        "\n",
        "    return result\n",
        "\n",
        "# Helper function to print the result\n",
        "def print_result(head):\n",
        "    if is_palindrome(head):\n",
        "        print(\"The linked list is a palindrome.\")\n",
        "    else:\n",
        "        print(\"The linked list is not a palindrome.\")\n",
        "\n",
        "# Helper function to create a linked list from a list of values\n",
        "def create_linked_list(values):\n",
        "    if not values:\n",
        "        return None\n",
        "    head = ListNode(values[0])\n",
        "    current = head\n",
        "    for value in values[1:]:\n",
        "        current.next = ListNode(value)\n",
        "        current = current.next\n",
        "    return head\n",
        "\n",
        "\n",
        "list1 = create_linked_list([1, 2, 3, 2, 1])\n",
        "print_result(list1)\n",
        "\n",
        "\n",
        "list2 = create_linked_list([1, 2, 3, 4, 5])\n",
        "print_result(list2)"
      ],
      "metadata": {
        "id": "7PwYHgAeachk",
        "colab": {
          "base_uri": "https://localhost:8080/"
        },
        "outputId": "a6e0526d-8c71-4490-9025-31c6904fd404"
      },
      "execution_count": 3,
      "outputs": [
        {
          "output_type": "stream",
          "name": "stdout",
          "text": [
            "The linked list is a palindrome.\n",
            "The linked list is not a palindrome.\n"
          ]
        }
      ]
    },
    {
      "cell_type": "markdown",
      "source": [
        "**3. Merge Sorted Arrays**\n",
        "   - Write a function that takes two sorted arrays and merges them into a single sorted array.\n",
        "   - Expected output: If the two input arrays are `[1, 3, 5]` and `[2, 4, 6]`, the output should be `[1, 2, 3, 4, 5, 6]`.\n"
      ],
      "metadata": {
        "id": "kcfZVRfhadai"
      }
    },
    {
      "cell_type": "code",
      "source": [
        "# Initialize pointers, one for each pointers.\n",
        "def merge_sorted_arrays(arr1, arr2):\n",
        "\n",
        "    merged_array = []\n",
        "    i, j = 0, 0\n",
        "    len1, len2 = len(arr1), len(arr2)\n",
        "\n",
        "    # Traverse both arrays and append smaller element to the result\n",
        "    while i < len1 and j < len2:\n",
        "        if arr1[i] < arr2[j]:\n",
        "            merged_array.append(arr1[i])\n",
        "            i += 1\n",
        "        else:\n",
        "            merged_array.append(arr2[j])\n",
        "            j += 1\n",
        "\n",
        "    # Append remaining elements of arr1 (if any)\n",
        "    while i < len1:\n",
        "        merged_array.append(arr1[i])\n",
        "        i += 1\n",
        "\n",
        "    # Append remaining elements of arr2 (if any)\n",
        "    while j < len2:\n",
        "        merged_array.append(arr2[j])\n",
        "        j += 1\n",
        "\n",
        "    return merged_array\n",
        "\n",
        "# let's check\n",
        "arr1 = [1, 3, 5]\n",
        "arr2 = [2, 4, 6]\n",
        "merged_array = merge_sorted_arrays(arr1, arr2)\n",
        "print(merged_array)\n",
        "\n",
        "\n"
      ],
      "metadata": {
        "id": "_NA1tlZ-ahVj",
        "colab": {
          "base_uri": "https://localhost:8080/"
        },
        "outputId": "f5e7c5f2-8871-4a9d-c455-57daee16cbb2"
      },
      "execution_count": null,
      "outputs": [
        {
          "output_type": "stream",
          "name": "stdout",
          "text": [
            "[1, 2, 3, 4, 5, 6]\n"
          ]
        }
      ]
    },
    {
      "cell_type": "markdown",
      "source": [
        "**4. Binary Search Tree**\n",
        "   - Implement a Binary Search Tree (BST) data structure, including methods for insertion, deletion, and search.\n",
        "   - Expected output: The program should be able to perform various BST operations and print the results.\n"
      ],
      "metadata": {
        "id": "dItwr-v1aiJo"
      }
    },
    {
      "cell_type": "code",
      "source": [
        "class TreeNode:\n",
        "    \"\"\"Class to represent a node in a binary search tree.\"\"\"\n",
        "\n",
        "    def __init__(self, key):\n",
        "        \"\"\"Initialize a TreeNode with a given key.\"\"\"\n",
        "        self.key = key  # Value of the node\n",
        "        self.left = None  # Left child\n",
        "        self.right = None  # Right child\n",
        "\n",
        "class BST:\n",
        "    \"\"\"Class to represent a binary search tree.\"\"\"\n",
        "\n",
        "    def __init__(self):\n",
        "        \"\"\"Initialize an empty BST.\"\"\"\n",
        "        self.root = None  # Root node of the BST\n",
        "\n",
        "    def insert(self, key):\n",
        "        \"\"\"Insert a key into the BST.\"\"\"\n",
        "        if self.root is None:\n",
        "            self.root = TreeNode(key)  # If the tree is empty, set root to the new node\n",
        "        else:\n",
        "            self._insert(self.root, key)  # Otherwise, insert the key in the appropriate position\n",
        "\n",
        "    def _insert(self, node, key):\n",
        "        \"\"\"Helper method to insert a key into the BST.\"\"\"\n",
        "        if key < node.key:\n",
        "            if node.left is None:\n",
        "                node.left = TreeNode(key)  # Insert as left child if empty\n",
        "            else:\n",
        "                self._insert(node.left, key)  # Recursively insert in the left subtree\n",
        "        elif key > node.key:\n",
        "            if node.right is None:\n",
        "                node.right = TreeNode(key)  # Insert as right child if empty\n",
        "            else:\n",
        "                self._insert(node.right, key)  # Recursively insert in the right subtree\n",
        "\n",
        "    def search(self, key):\n",
        "        \"\"\"Search for a key in the BST.\"\"\"\n",
        "        return self._search(self.root, key)  # Start the search from the root\n",
        "\n",
        "    def _search(self, node, key):\n",
        "        \"\"\"Helper method to search for a key in the BST.\"\"\"\n",
        "        if node is None or node.key == key:\n",
        "            return node  # Return the node if found or None if not found\n",
        "        if key < node.key:\n",
        "            return self._search(node.left, key)  # Recursively search in the left subtree\n",
        "        else:\n",
        "            return self._search(node.right, key)  # Recursively search in the right subtree\n",
        "\n",
        "    def delete(self, key):\n",
        "        \"\"\"Delete a key from the BST.\"\"\"\n",
        "        self.root = self._delete(self.root, key)  # Start the deletion from the root\n",
        "\n",
        "    def _delete(self, node, key):\n",
        "        \"\"\"Helper method to delete a key from the BST.\"\"\"\n",
        "        if node is None:\n",
        "            return node  # Return None if the node to be deleted is not found\n",
        "\n",
        "        if key < node.key:\n",
        "            node.left = self._delete(node.left, key)  # Recursively delete from the left subtree\n",
        "        elif key > node.key:\n",
        "            node.right = self._delete(node.right, key)  # Recursively delete from the right subtree\n",
        "        else:\n",
        "            # Node with only one child or no child\n",
        "            if node.left is None:\n",
        "                return node.right\n",
        "            elif node.right is None:\n",
        "                return node.left\n",
        "\n",
        "            # Node with two children: get the inorder successor (smallest in the right subtree)\n",
        "            min_larger_node = self._get_min(node.right)\n",
        "            node.key = min_larger_node.key  # Copy the inorder successor's content to this node\n",
        "            node.right = self._delete(node.right, min_larger_node.key)  # Delete the inorder successor\n",
        "\n",
        "        return node\n",
        "\n",
        "    def _get_min(self, node):\n",
        "        \"\"\"Helper method to find the node with the minimum key in a subtree.\"\"\"\n",
        "        current = node\n",
        "        while current.left is not None:\n",
        "            current = current.left  # Move to the leftmost node\n",
        "        return current\n",
        "\n",
        "    def inorder_traversal(self):\n",
        "        \"\"\"Perform an inorder traversal of the BST.\"\"\"\n",
        "        return self._inorder_traversal(self.root, [])  # Start the traversal from the root\n",
        "\n",
        "    def _inorder_traversal(self, node, result):\n",
        "        \"\"\"Helper method to perform an inorder traversal of the BST.\"\"\"\n",
        "        if node:\n",
        "            self._inorder_traversal(node.left, result)  # Traverse the left subtree\n",
        "            result.append(node.key)  # Visit the node\n",
        "            self._inorder_traversal(node.right, result)  # Traverse the right subtree\n",
        "        return result\n",
        "\n",
        "# Helper function to print the result of BST operations\n",
        "def print_bst(bst):\n",
        "    \"\"\"Print the inorder traversal of the BST.\"\"\"\n",
        "    print(\"Inorder Traversal of BST:\", bst.inorder_traversal())\n",
        "\n",
        "# check\n",
        "bst = BST()\n",
        "\n",
        "# Insert elements\n",
        "bst.insert(50)\n",
        "bst.insert(30)\n",
        "bst.insert(70)\n",
        "bst.insert(20)\n",
        "bst.insert(40)\n",
        "bst.insert(60)\n",
        "bst.insert(80)\n",
        "\n",
        "print_bst(bst)\n",
        "\n",
        "# Search for elements\n",
        "print(\"Search 40:\", bst.search(40) is not None)\n",
        "print(\"Search 25:\", bst.search(25) is not None)\n",
        "\n",
        "# Delete elements\n",
        "bst.delete(20)\n",
        "print_bst(bst)\n",
        "\n",
        "bst.delete(30)\n",
        "print_bst(bst)\n",
        "\n",
        "bst.delete(50)\n",
        "print_bst(bst)\n"
      ],
      "metadata": {
        "id": "T53M-pRHun7I",
        "colab": {
          "base_uri": "https://localhost:8080/"
        },
        "outputId": "0d96ca66-0948-44bd-e75b-27b86496da07"
      },
      "execution_count": 4,
      "outputs": [
        {
          "output_type": "stream",
          "name": "stdout",
          "text": [
            "Inorder Traversal of BST: [20, 30, 40, 50, 60, 70, 80]\n",
            "Search 40: True\n",
            "Search 25: False\n",
            "Inorder Traversal of BST: [30, 40, 50, 60, 70, 80]\n",
            "Inorder Traversal of BST: [40, 50, 60, 70, 80]\n",
            "Inorder Traversal of BST: [40, 60, 70, 80]\n"
          ]
        }
      ]
    },
    {
      "cell_type": "markdown",
      "source": [
        "**5. Longest Palindromic Substring**\n",
        "   - Write a program to find the longest palindromic substring within a given string.\n",
        "   - Expected output: If the input string is \"babad\", the output should be \"bab\" or \"aba\". If the input string is \"cbbd\", the output should be \"bb\".\n"
      ],
      "metadata": {
        "id": "0ApdVxXMuoks"
      }
    },
    {
      "cell_type": "code",
      "source": [
        "def longest_palindromic_substring(s):\n",
        "    # Helper function to expand around the center\n",
        "    def expand_around_center(left, right):\n",
        "        while left >= 0 and right < len(s) and s[left] == s[right]:\n",
        "            left -= 1\n",
        "            right += 1\n",
        "        # Return the longest palindrome length found around this center\n",
        "        return s[left + 1:right]\n",
        "\n",
        "    if not s or len(s) == 1:\n",
        "        return s\n",
        "\n",
        "    longest = \"\"\n",
        "\n",
        "    for i in range(len(s)):\n",
        "        # Odd length palindromes (single character center)\n",
        "        palindrome1 = expand_around_center(i, i)\n",
        "        if len(palindrome1) > len(longest):\n",
        "            longest = palindrome1\n",
        "\n",
        "        # Even length palindromes (two character center)\n",
        "        palindrome2 = expand_around_center(i, i + 1)\n",
        "        if len(palindrome2) > len(longest):\n",
        "            longest = palindrome2\n",
        "\n",
        "    return longest\n",
        "\n",
        "\n",
        "print(longest_palindromic_substring(\"babad\"))\n",
        "print(longest_palindromic_substring(\"cbbd\"))\n"
      ],
      "metadata": {
        "id": "1C323L4eutdp",
        "colab": {
          "base_uri": "https://localhost:8080/"
        },
        "outputId": "73575577-7e47-4381-9028-0e0b76760321"
      },
      "execution_count": 5,
      "outputs": [
        {
          "output_type": "stream",
          "name": "stdout",
          "text": [
            "bab\n",
            "bb\n"
          ]
        }
      ]
    },
    {
      "cell_type": "markdown",
      "source": [
        "**6. Merge Intervals**\n",
        "   - Write a program to merge overlapping intervals in a list of intervals.\n",
        "   - Expected output: If the input is `[(1, 3), (2, 6), (8, 10), (15, 18)]`, the output should be `[(1, 6), (8, 10), (15, 18)]`.\n"
      ],
      "metadata": {
        "id": "as7IlmQRuweA"
      }
    },
    {
      "cell_type": "code",
      "source": [
        "def sort_intervals(intervals):\n",
        "    return sorted(intervals, key=lambda x: x[0])\n",
        "\n",
        "def merge_intervals(intervals):\n",
        "    if not intervals:\n",
        "        return []\n",
        "\n",
        "    # Sort the intervals\n",
        "    sorted_intervals = sort_intervals(intervals)\n",
        "\n",
        "    # Initialize the merged intervals list with the first interval\n",
        "    merged_intervals = [sorted_intervals[0]]\n",
        "\n",
        "    for current in sorted_intervals[1:]:\n",
        "        last_merged = merged_intervals[-1]\n",
        "\n",
        "        # If the current interval overlaps with the last merged interval, merge them\n",
        "        if current[0] <= last_merged[1]:\n",
        "            merged_intervals[-1] = (last_merged[0], max(last_merged[1], current[1]))\n",
        "        else:\n",
        "            merged_intervals.append(current)\n",
        "\n",
        "    return merged_intervals\n",
        "\n",
        "def print_merged_intervals(intervals):\n",
        "    merged = merge_intervals(intervals)\n",
        "    print(merged)\n",
        "\n",
        "\n",
        "intervals = [(1, 3), (2, 6), (8, 10), (15, 18)]\n",
        "\n",
        "# Print the merged intervals\n",
        "print_merged_intervals(intervals)\n"
      ],
      "metadata": {
        "colab": {
          "base_uri": "https://localhost:8080/"
        },
        "id": "FNMil4XJi2PR",
        "outputId": "a4fbd1d7-1e33-4bc4-c62a-d3e8b05750c8"
      },
      "execution_count": 6,
      "outputs": [
        {
          "output_type": "stream",
          "name": "stdout",
          "text": [
            "[(1, 6), (8, 10), (15, 18)]\n"
          ]
        }
      ]
    },
    {
      "cell_type": "markdown",
      "source": [
        "**7. Maximum Subarray**\n",
        "   - Write a program to find the maximum sum of a contiguous subarray within a given array.\n",
        "   - Expected output: If the input array is `[-2, 1, -3, 4, -1, 2, 1, -5, 4]`, the output should be `6`, as the maximum subarray is `[4, -1, 2, 1]`.\n"
      ],
      "metadata": {
        "id": "gzfz8Jrdu1Yj"
      }
    },
    {
      "cell_type": "code",
      "source": [
        "def max_subarray_sum(nums):\n",
        "    if not nums:\n",
        "        return 0  # Return 0 if the input list is empty\n",
        "\n",
        "    # Initialize max_current and max_global with the first element\n",
        "    max_current = nums[0]\n",
        "    max_global = nums[0]\n",
        "\n",
        "    # Iterate through the array starting from the second element\n",
        "    for num in nums[1:]:\n",
        "        # Update max_current to be the maximum of the current element alone or the current element plus the previous max_current\n",
        "        max_current = max(num, max_current + num)\n",
        "\n",
        "        # Update max_global to keep track of the highest value of max_current found so far\n",
        "        if max_current > max_global:\n",
        "            max_global = max_current\n",
        "\n",
        "    return max_global  # Return the maximum sum of any contiguous subarray\n",
        "\n",
        "# Let's Check\n",
        "input_array = [-2, 1, -3, 4, -1, 2, 1, -5, 4]\n",
        "result = max_subarray_sum(input_array)\n",
        "print(result)"
      ],
      "metadata": {
        "id": "06GjJI69u3N0",
        "colab": {
          "base_uri": "https://localhost:8080/"
        },
        "outputId": "35f106c6-8bce-474c-b8e5-a3642956aef8"
      },
      "execution_count": 7,
      "outputs": [
        {
          "output_type": "stream",
          "name": "stdout",
          "text": [
            "6\n"
          ]
        }
      ]
    },
    {
      "cell_type": "markdown",
      "source": [
        "**8. Reverse Linked List**\n",
        "   - Write a program to reverse a singly-linked list.\n",
        "   - Expected output: If the input linked list is `1 -> 2 -> 3 -> 4 -> 5`, the output should be `5 -> 4 -> 3 -> 2 -> 1`\n"
      ],
      "metadata": {
        "id": "lc0Nmlgxu52g"
      }
    },
    {
      "cell_type": "code",
      "source": [
        "class ListNode:\n",
        "    def __init__(self, value=0, next=None):\n",
        "        self.value = value\n",
        "        self.next = next\n",
        "\n",
        "def reverse_linked_list(head):\n",
        "    prev = None  # Initialize the previous node to None\n",
        "    current = head  # Start with the head of the list\n",
        "\n",
        "    while current:\n",
        "        next_node = current.next  # Store the next node\n",
        "        current.next = prev  # Reverse the current node's pointer\n",
        "        prev = current  # Move the previous node to the current node\n",
        "        current = next_node  # Move to the next node in the list\n",
        "\n",
        "    # At the end, prev will be the new head of the reversed list\n",
        "    return prev\n",
        "\n",
        "# Helper function to print the linked list\n",
        "def print_linked_list(head):\n",
        "    current = head\n",
        "    while current:\n",
        "        print(current.value, end=\" -> \" if current.next else \"\")\n",
        "        current = current.next\n",
        "    print()  # for a new line\n",
        "\n",
        "# Helper function to create a linked list from a list of values\n",
        "def create_linked_list(values):\n",
        "    if not values:\n",
        "        return None\n",
        "    head = ListNode(values[0])\n",
        "    current = head\n",
        "    for value in values[1:]:\n",
        "        current.next = ListNode(value)\n",
        "        current = current.next\n",
        "    return head\n",
        "\n",
        "# let's check\n",
        "input_values = [1, 2, 3, 4, 5]\n",
        "head = create_linked_list(input_values)\n",
        "print(\"Original linked list:\")\n",
        "print_linked_list(head)\n",
        "\n",
        "reversed_head = reverse_linked_list(head)\n",
        "print(\"Reversed linked list:\")\n",
        "print_linked_list(reversed_head)\n"
      ],
      "metadata": {
        "id": "zyKhRRkZu76y",
        "colab": {
          "base_uri": "https://localhost:8080/"
        },
        "outputId": "ddc77ddf-78b9-49f4-a582-9843bcd43c26"
      },
      "execution_count": 8,
      "outputs": [
        {
          "output_type": "stream",
          "name": "stdout",
          "text": [
            "Original linked list:\n",
            "1 -> 2 -> 3 -> 4 -> 5\n",
            "Reversed linked list:\n",
            "5 -> 4 -> 3 -> 2 -> 1\n"
          ]
        }
      ]
    },
    {
      "cell_type": "markdown",
      "source": [
        "**9. Minimum Edit Distance**\n",
        "   - Write a program to calculate the minimum number of operations (insertions, deletions, or substitutions) required to transform one string into another.\n",
        "   - Expected output: If the two input strings are \"kitten\" and \"sitting\", the output should be `3`.\n"
      ],
      "metadata": {
        "id": "YDV6jAzCu_fG"
      }
    },
    {
      "cell_type": "code",
      "source": [
        "def min_edit_distance(word1, word2):\n",
        "    m = len(word1)\n",
        "    n = len(word2)\n",
        "\n",
        "    # Initialize a (m+1) x (n+1) matrix for DP\n",
        "    dp = [[0] * (n + 1) for _ in range(m + 1)]\n",
        "\n",
        "    # Base cases\n",
        "    for i in range(m + 1):\n",
        "        dp[i][0] = i  # Number of deletions (transform word1[:i] to empty string)\n",
        "    for j in range(n + 1):\n",
        "        dp[0][j] = j  # Number of insertions (transform empty string to word2[:j])\n",
        "\n",
        "    # Fill the DP table\n",
        "    for i in range(1, m + 1):\n",
        "        for j in range(1, n + 1):\n",
        "            if word1[i - 1] == word2[j - 1]:\n",
        "                dp[i][j] = dp[i - 1][j - 1]  # No additional operation needed\n",
        "            else:\n",
        "                dp[i][j] = 1 + min(dp[i - 1][j],    # Deletion\n",
        "                                   dp[i][j - 1],    # Insertion\n",
        "                                   dp[i - 1][j - 1]  # Substitution\n",
        "                                  )\n",
        "\n",
        "    # The minimum edit distance is found in dp[m][n]\n",
        "    return dp[m][n]\n",
        "\n",
        "# let's check\n",
        "word1 = \"kitten\"\n",
        "word2 = \"sitting\"\n",
        "result = min_edit_distance(word1, word2)\n",
        "print(f\"Minimum edit distance between '{word1}' and '{word2}' is {result}\")\n"
      ],
      "metadata": {
        "id": "sholi0lPvBiP",
        "colab": {
          "base_uri": "https://localhost:8080/"
        },
        "outputId": "45078409-2b15-4256-ccad-524aab390480"
      },
      "execution_count": 9,
      "outputs": [
        {
          "output_type": "stream",
          "name": "stdout",
          "text": [
            "Minimum edit distance between 'kitten' and 'sitting' is 3\n"
          ]
        }
      ]
    },
    {
      "cell_type": "markdown",
      "source": [
        "**10. Boggle Game**\n",
        "  - Implement a program that solves the Boggle game, given a board and a list of words.\n",
        "  - Expected output: The program should print all the words found in the Boggle board.\n"
      ],
      "metadata": {
        "id": "t83BRe_KvEFz"
      }
    },
    {
      "cell_type": "code",
      "source": [
        "import copy\n",
        "\n",
        "# Create a Boggle board\n",
        "board = [\n",
        "    ['A', 'B', 'C', 'D'],\n",
        "    ['E', 'F', 'A', 'H'],\n",
        "    ['I', 'J', 'T', 'L'],\n",
        "    ['M', 'N', 'O', 'P']\n",
        "]\n",
        "\n",
        "# Create a dictionary of words\n",
        "words = {\n",
        "    'CAT',\n",
        "    'DOG',\n",
        "    'FISH',\n",
        "    'APPLE',\n",
        "    'BANANA',\n",
        "    'ORANGE'\n",
        "}\n",
        "\n",
        "# Create a set to store the found words\n",
        "found_words = set()\n",
        "\n",
        "# Define a function to check if a word is present in the Boggle board\n",
        "def find_word(word, board, row, col, visited):\n",
        "    # If the word is empty, return True\n",
        "    if not word:\n",
        "        return True\n",
        "\n",
        "    # If the current cell is out of bounds or has already been visited, return False\n",
        "    if row < 0 or row >= len(board) or col < 0 or col >= len(board[0]) or visited[row][col]:\n",
        "        return False\n",
        "\n",
        "    # If the current letter does not match the first letter of the word, return False\n",
        "    if board[row][col] != word[0]:\n",
        "        return False\n",
        "\n",
        "    # Mark the current cell as visited\n",
        "    visited[row][col] = True\n",
        "\n",
        "    # Recursively check the neighboring cells to find the remaining letters of the word\n",
        "    result = find_word(word[1:], board, row + 1, col, visited) or \\\n",
        "             find_word(word[1:], board, row - 1, col, visited) or \\\n",
        "             find_word(word[1:], board, row, col + 1, visited) or \\\n",
        "             find_word(word[1:], board, row, col - 1, visited)\n",
        "\n",
        "    # Unmark the current cell as visited\n",
        "    visited[row][col] = False\n",
        "\n",
        "    # Return the result\n",
        "    return result\n",
        "\n",
        "# Define a function to solve the Boggle game\n",
        "def solve_boggle(board, words):\n",
        "    # Create a 2D array to store the visited cells\n",
        "    visited = [[False] * len(board[0]) for _ in range(len(board))]\n",
        "\n",
        "    # Iterate over the board and find all the words\n",
        "    for row in range(len(board)):\n",
        "        for col in range(len(board[0])):\n",
        "            for word in words:\n",
        "                if find_word(word, board, row, col, copy.deepcopy(visited)):\n",
        "                    found_words.add(word)\n",
        "\n",
        "    # Return the found words\n",
        "    return found_words\n",
        "\n",
        "# Solve the Boggle game\n",
        "found_words = solve_boggle(board, words)\n",
        "\n",
        "# Print the found words\n",
        "print(\"Found words:\", found_words)\n"
      ],
      "metadata": {
        "colab": {
          "base_uri": "https://localhost:8080/"
        },
        "id": "YvO73jnRpnJM",
        "outputId": "3ead8438-c635-45c4-aba6-3a13ebcdbe27"
      },
      "execution_count": 11,
      "outputs": [
        {
          "output_type": "stream",
          "name": "stdout",
          "text": [
            "Found words: {'CAT'}\n"
          ]
        }
      ]
    },
    {
      "cell_type": "code",
      "source": [],
      "metadata": {
        "id": "QmWPzzGUpv_j"
      },
      "execution_count": null,
      "outputs": []
    }
  ]
}