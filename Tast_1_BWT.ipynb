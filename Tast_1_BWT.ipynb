{
  "nbformat": 4,
  "nbformat_minor": 0,
  "metadata": {
    "colab": {
      "provenance": []
    },
    "kernelspec": {
      "name": "python3",
      "display_name": "Python 3"
    },
    "language_info": {
      "name": "python"
    }
  },
  "cells": [
    {
      "cell_type": "markdown",
      "source": [
        "Exercise: Sum of Two Numbers\n",
        "**Task:** Write a program that takes two numbers from the user and prints their sum.\n",
        "\n",
        "**Expected Output:**\n",
        "Enter first number: 3\n",
        "Enter second number: 4\n",
        "The sum is: 7.0\n"
      ],
      "metadata": {
        "id": "eljHdEGp7RG1"
      }
    },
    {
      "cell_type": "code",
      "source": [
        "#Take numbers from users\n",
        "\n",
        "user1 = int(input(\"Enter a number1 :\"))\n",
        "user2 = int(input(\"Enter a number2 :\"))\n",
        "\n",
        "# add numbers using ' + ' operator.\n",
        "total = user1 + user2\n",
        "print(total)\n",
        "\n",
        "\n"
      ],
      "metadata": {
        "id": "v61Zu1Zu8Z1a",
        "colab": {
          "base_uri": "https://localhost:8080/"
        },
        "outputId": "65f4e3c5-cfe7-4edf-f008-3b02f678a0c9"
      },
      "execution_count": null,
      "outputs": [
        {
          "output_type": "stream",
          "name": "stdout",
          "text": [
            "Enter a number1 :3\n",
            "Enter a number2 :4\n",
            "7\n"
          ]
        }
      ]
    },
    {
      "cell_type": "markdown",
      "source": [
        "Exercise : Area of a Circle\n",
        "**Task:** Write a program to calculate the area of a circle given its radius.\n",
        "\n",
        "**Expected Output:**\n",
        "Enter the radius of the circle: 5\n",
        "The area of the circle is: 78.53981633974483\n"
      ],
      "metadata": {
        "id": "l0UnpI3oS2et"
      }
    },
    {
      "cell_type": "code",
      "source": [
        "# The formula for area of circle is  A = πr^2 and radius is already given.\n",
        "radius = 5\n",
        "\n",
        "area = (3.14159) * radius**2\n",
        "print(area)\n"
      ],
      "metadata": {
        "colab": {
          "base_uri": "https://localhost:8080/"
        },
        "id": "8mx-41m3TaTp",
        "outputId": "184214ad-31fc-4966-9249-4864e2e3838b"
      },
      "execution_count": null,
      "outputs": [
        {
          "output_type": "stream",
          "name": "stdout",
          "text": [
            "78.53975\n"
          ]
        }
      ]
    },
    {
      "cell_type": "markdown",
      "source": [
        "**Exercise:** Even or Odd\n",
        "**Task:** Write a program that checks if a number is even or odd.\n",
        "\n",
        "Expected Output:\n",
        "Enter a number: 7\n",
        "7 is odd\n"
      ],
      "metadata": {
        "id": "QnfkNI2PULQn"
      }
    },
    {
      "cell_type": "code",
      "source": [
        "# let's take a number from user and find either that number is odd or even\n",
        "\n",
        "num = int(input(\"enter a number :\"))\n",
        "\n",
        "if num % 2 == 0:   #if the number is divisible by 2 then it's an even number otherwise odd and % is reminder.\n",
        "  print('even')\n",
        "else:\n",
        "  print('odd')"
      ],
      "metadata": {
        "colab": {
          "base_uri": "https://localhost:8080/"
        },
        "id": "NL3bspS5Q_F-",
        "outputId": "7aa40337-8027-41a2-fd07-4da1f0b310f3"
      },
      "execution_count": null,
      "outputs": [
        {
          "output_type": "stream",
          "name": "stdout",
          "text": [
            "enter a number :7\n",
            "odd\n"
          ]
        }
      ]
    },
    {
      "cell_type": "markdown",
      "source": [
        "**Exercise:** Simple Calculator\n",
        "\n",
        "**Task:** Write a program that performs basic arithmetic operations (addition, subtraction, multiplication, division) based on user input.\n",
        "\n",
        "Expected Output:\n",
        "Enter first number: 10\n",
        "Enter second number: 3\n",
        "Enter operation (+, -, *, /): /\n",
        "The result is: 3.3333333333333335\n"
      ],
      "metadata": {
        "id": "DgVv7Nv1WLzd"
      }
    },
    {
      "cell_type": "code",
      "source": [
        "# here is simple calculator. Take numbers from user and then simply apply arithmetic operations on it.\n",
        "\n",
        "num1 = int(input(\"Enter a number :\"))\n",
        "num2 = int(input(\"Enter a number :\"))\n",
        "\n",
        "# Addition\n",
        "print(\"Addition :\", num1 + num2  )\n",
        "\n",
        "print(\"Substraction :\", num1 - num2)\n",
        "\n",
        "print(\"Multiplication :\", num1 * num2)\n",
        "\n",
        "print(\"Division :\", num1 / num2)"
      ],
      "metadata": {
        "colab": {
          "base_uri": "https://localhost:8080/"
        },
        "id": "Mw9Q-xZrUtMF",
        "outputId": "e77afb26-cabb-4f23-f09f-1e181fc93810"
      },
      "execution_count": null,
      "outputs": [
        {
          "output_type": "stream",
          "name": "stdout",
          "text": [
            "Enter a number :10\n",
            "Enter a number :3\n",
            "Addition : 13\n",
            "Substraction : 7\n",
            "Multiplication : 30\n",
            "Division : 3.3333333333333335\n"
          ]
        }
      ]
    },
    {
      "cell_type": "markdown",
      "source": [
        "**Exercise:** Find the Largest Number\n",
        "\n",
        "**Task:** Write a program to find the largest of three numbers.\n",
        "\n",
        "Expected Output:\n",
        "Enter first number: 7\n",
        "Enter second number: 15\n",
        "Enter third number: 10\n"
      ],
      "metadata": {
        "id": "hVwdu-4NYwLf"
      }
    },
    {
      "cell_type": "code",
      "source": [
        "# Simply ask numbers from users and apply max() to find larger number.\n",
        "\n",
        "num1 = int(input(\"Enter number1 :\"))\n",
        "num2 = int(input(\"Enter number2 :\"))\n",
        "num3 = int(input(\"Enter number3 :\"))\n",
        "\n",
        "Max_Num = max(num1,num2,num3)\n",
        "\n",
        "print(\"The larger number is : \", Max_Num)"
      ],
      "metadata": {
        "colab": {
          "base_uri": "https://localhost:8080/"
        },
        "id": "icLH38xsYKiL",
        "outputId": "a5e370a1-599c-4aa6-af89-0a4d45b202a1"
      },
      "execution_count": null,
      "outputs": [
        {
          "output_type": "stream",
          "name": "stdout",
          "text": [
            "Enter number1 :7\n",
            "Enter number2 :15\n",
            "Enter number3 :10\n",
            "The larger number is :  15\n"
          ]
        }
      ]
    },
    {
      "cell_type": "markdown",
      "source": [
        "**Exercise:** Reverse a String\n",
        "\n",
        "**Task:** Write a program that takes a string from the user and prints it in reverse.\n",
        "\n",
        "Expected Output:\n",
        "Enter a string: hello\n",
        "The reversed string is: olleh\n"
      ],
      "metadata": {
        "id": "k-jY0zoxeDNW"
      }
    },
    {
      "cell_type": "code",
      "source": [
        "# take user input\n",
        "\n",
        "user = input(\"Enter a string : \")\n",
        "\n",
        "reversed = user[::-1]  # basic method to reverse string in python here [::-1] --> [start, stop, step] so I only initialized 'step' value so that It could reversed\n",
        "print(reversed)\n"
      ],
      "metadata": {
        "colab": {
          "base_uri": "https://localhost:8080/"
        },
        "id": "3Ot_y2h7aIby",
        "outputId": "1df0d0fe-a27f-499b-9c91-4279a088a607"
      },
      "execution_count": null,
      "outputs": [
        {
          "output_type": "stream",
          "name": "stdout",
          "text": [
            "Enter a string :python\n",
            "nohtyp\n"
          ]
        }
      ]
    },
    {
      "cell_type": "markdown",
      "source": [
        "**Exercise:** Count Vowels\n",
        "\n",
        "**Task:** Write a program that counts the number of vowels in a given string.\n",
        "\n",
        "Expected Output:\n",
        "Enter a string: Nimra Waqar\n",
        "The number of vowels is: 4\n"
      ],
      "metadata": {
        "id": "sGHoolt1hNgk"
      }
    },
    {
      "cell_type": "code",
      "source": [
        "# count the number of vowels in a string\n",
        "vowel = \"aeiouAEIOU\"\n",
        "string = \"I am a Machine Learning fellow\"\n",
        "count = 0\n",
        "\n",
        "for char in string: # check characters in string\n",
        "  if char in vowel: # if char is vowel or not\n",
        "    count = count + 1\n",
        "\n",
        "print(\"The number of vowel is :\", count)\n",
        "\n"
      ],
      "metadata": {
        "colab": {
          "base_uri": "https://localhost:8080/"
        },
        "id": "G2_iG1_VegDz",
        "outputId": "493d3432-2344-4350-b691-73554c17350d"
      },
      "execution_count": null,
      "outputs": [
        {
          "output_type": "stream",
          "name": "stdout",
          "text": [
            "The number of vowel is : 11\n"
          ]
        }
      ]
    },
    {
      "cell_type": "markdown",
      "source": [
        "**Exercise :** Fibonacci Sequence\n",
        "\n",
        "**Task:** Write a program to print the Fibonacci sequence up to n terms.\n",
        "\n",
        "Expected Output:\n",
        "How many terms? 5\n",
        "Fibonacci sequence:\n",
        "0 1 1 2 3\n",
        "\n"
      ],
      "metadata": {
        "id": "3BncTjXwkzdh"
      }
    },
    {
      "cell_type": "code",
      "source": [
        "# define a function with n argument\n",
        "def fibonacci(n):\n",
        "    a, b = 0, 1    #initialize variable with values\n",
        "    for i in range(n):\n",
        "        print(a, end=' ')  # print current value with space\n",
        "        a, b = b, a + b   #this updates the value. the new value of 'a' becomes the current value for 'b' and the new value of' b' becomes the sum of the current values of a and b\n",
        "\n",
        "# Replace 'n' with the number of terms you want to print\n",
        "n = int(input(\"Enter the number of terms: \"))\n",
        "fibonacci(n)\n"
      ],
      "metadata": {
        "colab": {
          "base_uri": "https://localhost:8080/"
        },
        "id": "eiptbtBbl_nI",
        "outputId": "2e73b7a1-8dfe-4ba4-b37d-bb9771e555b7"
      },
      "execution_count": 1,
      "outputs": [
        {
          "output_type": "stream",
          "name": "stdout",
          "text": [
            "Enter the number of terms: 5\n",
            "0 1 1 2 3 "
          ]
        }
      ]
    },
    {
      "cell_type": "markdown",
      "source": [
        "**Exercise:** Check for Palindrome\n",
        "\n",
        "**Task:** Write a program to check if a given string is a palindrome.\n",
        "\n",
        "Expected Output:\n",
        "Enter a string: radar\n",
        "radar is a palindrome\n"
      ],
      "metadata": {
        "id": "eC7eEUnYl7f-"
      }
    },
    {
      "cell_type": "code",
      "source": [
        "def is_palindrome(s):\n",
        "    # Remove any spaces and convert to lowercase for case insensitivity\n",
        "    s = s.replace(\" \", \"\").lower()\n",
        "\n",
        "    # Check if the string is equal to its reverse\n",
        "    return s == s[::-1]\n",
        "\n",
        "# Get input from the user\n",
        "user_input = input(\"Enter a string: \")\n",
        "\n",
        "# Check if the input string is a palindrome\n",
        "if is_palindrome(user_input):\n",
        "    print(f\"{user_input} is a palindrome\")\n",
        "else:\n",
        "    print(f\"{user_input} is not a palindrome\")\n"
      ],
      "metadata": {
        "id": "I2XnBcXNiQeG",
        "colab": {
          "base_uri": "https://localhost:8080/"
        },
        "outputId": "c06a6e7c-0432-4b9a-f121-6c55723c5e6d"
      },
      "execution_count": 2,
      "outputs": [
        {
          "output_type": "stream",
          "name": "stdout",
          "text": [
            "Enter a string: radar\n",
            "radar is a palindrome\n"
          ]
        }
      ]
    },
    {
      "cell_type": "code",
      "source": [],
      "metadata": {
        "id": "IzIhoZB7Alyg"
      },
      "execution_count": null,
      "outputs": []
    }
  ]
}