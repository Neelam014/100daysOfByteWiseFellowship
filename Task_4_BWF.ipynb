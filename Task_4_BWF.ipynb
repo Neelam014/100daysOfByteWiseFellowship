{
  "nbformat": 4,
  "nbformat_minor": 0,
  "metadata": {
    "colab": {
      "provenance": []
    },
    "kernelspec": {
      "name": "python3",
      "display_name": "Python 3"
    },
    "language_info": {
      "name": "python"
    }
  },
  "cells": [
    {
      "cell_type": "markdown",
      "source": [
        "**QuickSort Algorithm**\n",
        "\n",
        "Write a program to implement the QuickSort algorithm.\n",
        "Expected Output: If the input array is [3, 6, 8, 10, 1, 2, 1], the output should be [1, 1, 2, 3, 6, 8, 10].\n"
      ],
      "metadata": {
        "id": "xWUNoT22TocZ"
      }
    },
    {
      "cell_type": "code",
      "source": [
        "def partition(arr, low, high):\n",
        "    pivot = arr[low]  # Use the first element as pivot\n",
        "    i = low + 1\n",
        "    j = high\n",
        "\n",
        "    while True:\n",
        "        # Find leftmost element greater than or equal to pivot\n",
        "        while i <= j and arr[i] <= pivot:\n",
        "            i += 1\n",
        "        # Find rightmost element less than or equal to pivot\n",
        "        while i <= j and arr[j] >= pivot:\n",
        "            j -= 1\n",
        "        if i <= j:\n",
        "            arr[i], arr[j] = arr[j], arr[i]  # Swap elements\n",
        "        else:\n",
        "            break\n",
        "\n",
        "    arr[low], arr[j] = arr[j], arr[low]  # Swap pivot with element at index j\n",
        "    return j\n",
        "\n",
        "def quickSort(arr, low, high):\n",
        "    if low < high:\n",
        "        pi = partition(arr, low, high)\n",
        "        quickSort(arr, low, pi - 1)  # Sort elements before partition\n",
        "        quickSort(arr, pi + 1, high)  # Sort elements after partition\n",
        "\n",
        "arr = [3, 6, 8, 10, 1, 2, 1]\n",
        "n = len(arr)\n",
        "quickSort(arr, 0, n - 1)\n",
        "print(arr)\n"
      ],
      "metadata": {
        "colab": {
          "base_uri": "https://localhost:8080/"
        },
        "id": "waHCbO2iTuv-",
        "outputId": "fcd3d29d-5f8a-41a7-e983-af6a3ad224e5"
      },
      "execution_count": null,
      "outputs": [
        {
          "output_type": "stream",
          "name": "stdout",
          "text": [
            "[1, 1, 2, 3, 6, 8, 10]\n"
          ]
        }
      ]
    },
    {
      "cell_type": "markdown",
      "source": [
        "**Knapsack Problem**\n",
        "\n",
        "Write a program to solve the 0/1 Knapsack Problem using dynamic programming.\n",
        "Expected Output: If the input weights are [1, 3, 4, 5], values are [1, 4, 5, 7], and the maximum capacity is 7, the output should be 9.\n"
      ],
      "metadata": {
        "id": "z9-S8lzolTpa"
      }
    },
    {
      "cell_type": "code",
      "source": [
        "def knapsack_01(W, weights, values):\n",
        "    n = len(values)\n",
        "    dp = [[0] * (W + 1) for _ in range(n + 1)]\n",
        "\n",
        "    for i in range(1, n + 1):\n",
        "        for w in range(W + 1):\n",
        "            if weights[i - 1] <= w:\n",
        "                # Case 1: Include the item\n",
        "                include_item = values[i - 1] + dp[i - 1][w - weights[i - 1]]\n",
        "                # Case 2: Exclude the item\n",
        "                exclude_item = dp[i - 1][w]\n",
        "                dp[i][w] = max(include_item, exclude_item)\n",
        "            else:\n",
        "                # Cannot include the item, take the value from the previous row\n",
        "                dp[i][w] = dp[i - 1][w]\n",
        "\n",
        "    return dp[n][W]\n",
        "\n",
        "\n",
        "weights = [1, 3, 4, 5]\n",
        "values = [1, 4, 5, 7]\n",
        "W = 7\n",
        "print(knapsack_01(W, weights, values))\n"
      ],
      "metadata": {
        "colab": {
          "base_uri": "https://localhost:8080/"
        },
        "id": "RGBaX787UZo1",
        "outputId": "cbba0d8f-33a0-4765-b84a-9fe4ec99bd67"
      },
      "execution_count": null,
      "outputs": [
        {
          "output_type": "stream",
          "name": "stdout",
          "text": [
            "9\n"
          ]
        }
      ]
    },
    {
      "cell_type": "markdown",
      "source": [
        "**Graph Traversal (BFS )**\n",
        "\n",
        "Implement Breadth-First Search (BFS) and Depth-First Search (DFS) for graph traversal.\n",
        "Expected Output: If the input graph is {0: [1, 2], 1: [2], 2: [0, 3], 3: [3]}, the BFS starting from node 2 should return [2, 0, 3, 1], and the DFS starting from node 2 should return [2, 0, 1, 3].\n"
      ],
      "metadata": {
        "id": "Z3Dkl-1GlaZm"
      }
    },
    {
      "cell_type": "code",
      "source": [
        "# BFS\n",
        "graph =  {0: [1, 2], 1: [2], 2: [0, 3], 3: [3]}\n",
        "\n",
        "def bfs(graph, start_node):\n",
        "    visited = []  # List for visited nodes.\n",
        "    queue = []    # Initialize a queue for BFS.\n",
        "    result = []   # List to store the order of nodes visited.\n",
        "\n",
        "    visited.append(start_node)\n",
        "    queue.append(start_node)\n",
        "\n",
        "    while queue:\n",
        "        node = queue.pop(0)\n",
        "        result.append(node)\n",
        "\n",
        "        for neighbour in graph[node]:\n",
        "            if neighbour not in visited:\n",
        "                visited.append(neighbour)\n",
        "                queue.append(neighbour)\n",
        "\n",
        "    return result  # Return the list of visited nodes\n",
        "\n",
        "\n",
        "# Perform BFS from node 2\n",
        "result = bfs(graph, 2)\n",
        "print(\"Following is the Breadth-First Search (BFS) result:\")\n",
        "print(result)\n"
      ],
      "metadata": {
        "id": "plFl6L_BbKDs",
        "colab": {
          "base_uri": "https://localhost:8080/"
        },
        "outputId": "639e7ffe-5e35-4503-bf25-73fb805d901a"
      },
      "execution_count": null,
      "outputs": [
        {
          "output_type": "stream",
          "name": "stdout",
          "text": [
            "Following is the Breadth-First Search (BFS) result:\n",
            "[2, 0, 3, 1]\n"
          ]
        }
      ]
    },
    {
      "cell_type": "markdown",
      "source": [
        "**Depth-First Search (DFS**)\n",
        "\n",
        "the DFS starting from node 2 should return [2, 0, 1, 3]"
      ],
      "metadata": {
        "id": "_Abfiwtctkmo"
      }
    },
    {
      "cell_type": "code",
      "source": [
        "graph =  {0: [1, 2], 1: [2], 2: [0, 3], 3: [3]}\n",
        "visited = set()\n",
        "\n",
        "def dfs(visited, graph, node):\n",
        "    if node not in visited:\n",
        "        visited.add(node)\n",
        "        result = [node]  # Initialize result with the current node\n",
        "\n",
        "        for neighbour in graph[node]:\n",
        "            result += dfs(visited, graph, neighbour)  # Recursively append neighbours\n",
        "\n",
        "        return result  # Return the list of visited nodes\n",
        "\n",
        "    return []  # Return an empty list if the node is already visited\n",
        "\n",
        "\n",
        "# Perform DFS from node 2\n",
        "result = dfs(visited, graph, 2)\n",
        "print(\"Following is the Depth-First Search (DFS) result:\")\n",
        "print(result)\n"
      ],
      "metadata": {
        "colab": {
          "base_uri": "https://localhost:8080/"
        },
        "id": "LBCDla2qtyVK",
        "outputId": "bcd9aaef-f30d-4959-c1ff-009cb37854d9"
      },
      "execution_count": 5,
      "outputs": [
        {
          "output_type": "stream",
          "name": "stdout",
          "text": [
            "Following is the Depth-First Search (DFS) result:\n",
            "[2, 0, 1, 3]\n"
          ]
        }
      ]
    },
    {
      "cell_type": "markdown",
      "source": [
        "**Dijkstra's Algorithm**\n",
        "\n",
        "Write a program to implement Dijkstra's algorithm for finding the shortest path in a graph.\n",
        "Expected Output: If the input graph is {'A': {'B': 1, 'C': 4}, 'B': {'C': 2, 'D': 5}, 'C': {'D': 1}, 'D': {}} and the starting node is A, the output should be {'A': 0, 'B': 1, 'C': 3, 'D': 4}."
      ],
      "metadata": {
        "id": "UhLO2r2lli_r"
      }
    },
    {
      "cell_type": "code",
      "source": [
        "import heapq  #heap queue algorithm to efficiently retrieve the smallest element\n",
        "\n",
        "def dijkstra(graph, start):\n",
        "    # Initialize distances with infinity and the start node distance with 0\n",
        "    distances = {node: float('inf') for node in graph}\n",
        "    distances[start] = 0\n",
        "    priority_queue = [(0, start)]  # Priority queue to hold (distance, node)\n",
        "\n",
        "    while priority_queue:\n",
        "        current_distance, current_node = heapq.heappop(priority_queue)\n",
        "\n",
        "        # Skip processing if we found a better way to the node already\n",
        "        if current_distance > distances[current_node]:\n",
        "            continue\n",
        "\n",
        "        # Explore neighbors\n",
        "        for neighbor, weight in graph[current_node].items():\n",
        "            distance = current_distance + weight\n",
        "\n",
        "            # If a shorter path to neighbor is found\n",
        "            if distance < distances[neighbor]:\n",
        "                distances[neighbor] = distance\n",
        "                heapq.heappush(priority_queue, (distance, neighbor))\n",
        "\n",
        "    return distances\n",
        "\n",
        "\n",
        "graph = {\n",
        "    'A': {'B': 1, 'C': 4},\n",
        "    'B': {'C': 2, 'D': 5},\n",
        "    'C': {'D': 1},\n",
        "    'D': {}\n",
        "}\n",
        "\n",
        "# Perform Dijkstra's algorithm from node 'A'\n",
        "result = dijkstra(graph, 'A')\n",
        "print(\"Shortest paths from node 'A':\")\n",
        "print(result)\n"
      ],
      "metadata": {
        "id": "w-YOm88clqhH",
        "colab": {
          "base_uri": "https://localhost:8080/"
        },
        "outputId": "bad7b216-9638-44e2-9c6e-52490bbe6f70"
      },
      "execution_count": 6,
      "outputs": [
        {
          "output_type": "stream",
          "name": "stdout",
          "text": [
            "Shortest paths from node 'A':\n",
            "{'A': 0, 'B': 1, 'C': 3, 'D': 4}\n"
          ]
        }
      ]
    },
    {
      "cell_type": "markdown",
      "source": [
        "**Longest Common Subsequence (LCS)**\n",
        "\n",
        "Write a program to find the longest common subsequence between two strings.\n",
        "Expected Output: If the input strings are AGGTAB and GXTXAYB, the output should be GTAB."
      ],
      "metadata": {
        "id": "6UhSUP4alrNQ"
      }
    },
    {
      "cell_type": "code",
      "source": [
        "def lcs(X, Y):\n",
        "    m = len(X)\n",
        "    n = len(Y)\n",
        "\n",
        "    # Create a 2D table to store lengths of longest common subsequence.\n",
        "    dp = [[0] * (n + 1) for _ in range(m + 1)]\n",
        "\n",
        "    # Build the dp table in bottom-up manner\n",
        "    for i in range(m + 1):\n",
        "        for j in range(n + 1):\n",
        "            if i == 0 or j == 0:\n",
        "                dp[i][j] = 0\n",
        "            elif X[i - 1] == Y[j - 1]:\n",
        "                dp[i][j] = dp[i - 1][j - 1] + 1\n",
        "            else:\n",
        "                dp[i][j] = max(dp[i - 1][j], dp[i][j - 1])\n",
        "\n",
        "    # Backtrack to find the LCS\n",
        "    index = dp[m][n]\n",
        "    lcs = [\"\"] * (index)\n",
        "\n",
        "    i = m\n",
        "    j = n\n",
        "    while i > 0 and j > 0:\n",
        "        if X[i - 1] == Y[j - 1]:\n",
        "            lcs[index - 1] = X[i - 1]\n",
        "            i -= 1\n",
        "            j -= 1\n",
        "            index -= 1\n",
        "        elif dp[i - 1][j] > dp[i][j - 1]:\n",
        "            i -= 1\n",
        "        else:\n",
        "            j -= 1\n",
        "\n",
        "    return \"\".join(lcs)\n",
        "\n",
        "\n",
        "X = \"AGGTAB\"\n",
        "Y = \"GXTXAYB\"\n",
        "print(\"Longest Common Subsequence:\", lcs(X, Y))\n"
      ],
      "metadata": {
        "id": "vpoXB6Ghlx88",
        "colab": {
          "base_uri": "https://localhost:8080/"
        },
        "outputId": "b2211f85-5070-471c-e46c-9ace428fa280"
      },
      "execution_count": 7,
      "outputs": [
        {
          "output_type": "stream",
          "name": "stdout",
          "text": [
            "Longest Common Subsequence: GTAB\n"
          ]
        }
      ]
    },
    {
      "cell_type": "code",
      "source": [],
      "metadata": {
        "id": "L0NhvrasUGEg"
      },
      "execution_count": null,
      "outputs": []
    }
  ]
}